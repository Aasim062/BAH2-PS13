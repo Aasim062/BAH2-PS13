{
 "cells": [
  {
   "cell_type": "code",
   "execution_count": null,
   "id": "c52a4c64",
   "metadata": {},
   "outputs": [],
   "source": [
    "import numpy as np\n",
    "import cv2\n",
    "import matplotlib.pyplot as plt\n",
    "\n",
    "# Load normalized image and predicted albedo\n",
    "image = np.load('../output/aligned/image_norm.npy')\n",
    "albedo = cv2.imread('../output/albedo_maps/predicted_albedo.png', cv2.IMREAD_GRAYSCALE) / 255.0\n"
   ]
  },
  {
   "cell_type": "code",
   "execution_count": null,
   "id": "3dd18641",
   "metadata": {},
   "outputs": [],
   "source": [
    "# Assume constant angles for now (to be replaced with real metadata)\n",
    "incidence_angle_deg = 45  # Sun incidence angle\n",
    "emission_angle_deg = 0    # Nadir viewing\n",
    "\n",
    "# Convert to radians\n",
    "i_rad = np.radians(incidence_angle_deg)\n",
    "e_rad = np.radians(emission_angle_deg)\n",
    "\n",
    "# Constants\n",
    "L = 0.6  # Lunar Lambert weighting factor\n"
   ]
  },
  {
   "cell_type": "code",
   "execution_count": null,
   "id": "c7db4ea6",
   "metadata": {},
   "outputs": [],
   "source": [
    "# Calculate reflectance at each pixel\n",
    "cos_i = np.cos(i_rad)\n",
    "cos_e = np.cos(e_rad)\n",
    "\n",
    "R = albedo * ((L * cos_i) + ((1 - L) * cos_i / (cos_i + cos_e)))\n",
    "\n",
    "plt.imshow(R, cmap='gray')\n",
    "plt.title(\"Modeled Reflectance Map\")\n",
    "plt.colorbar()\n",
    "plt.show()\n",
    "\n"
   ]
  },
  {
   "cell_type": "code",
   "execution_count": null,
   "id": "a7a645e5",
   "metadata": {},
   "outputs": [],
   "source": [
    "np.save('../output/reflectance_models/expected_reflectance.npy', R)\n"
   ]
  }
 ],
 "metadata": {
  "language_info": {
   "name": "python"
  }
 },
 "nbformat": 4,
 "nbformat_minor": 5
}
