import torch
import torch.nn as nn

class UNet(nn.Module):
    def __init__(self):
        super(UNet, self).__init__()
        def block(in_c, out_c):
            return nn.Sequential(
                nn.Conv2d(in_c, out_c, 3, padding=1),
                nn.ReLU(),
                nn.Conv2d(out_c, out_c, 3, padding=1),
                nn.ReLU()
            )
        
        self.encoder1 = block(1, 64)
        self.pool1 = nn.MaxPool2d(2)
        self.encoder2 = block(64, 128)
        self.pool2 = nn.MaxPool2d(2)
        
        self.middle = block(128, 256)
        
        self.up2 = nn.ConvTranspose2d(256, 128, 2, stride=2)
        self.decoder2 = block(256, 128)
        self.up1 = nn.ConvTranspose2d(128, 64, 2, stride=2)
        self.decoder1 = block(128, 64)
        
        self.final = nn.Conv2d(64, 1, 1)

    def forward(self, x):
        e1 = self.encoder1(x)
        e2 = self.encoder2(self.pool1(e1))
        m = self.middle(self.pool2(e2))
        d2 = self.decoder2(torch.cat([self.up2(m), e2], dim=1))
        d1 = self.decoder1(torch.cat([self.up1(d2), e1], dim=1))
        return torch.sigmoid(self.final(d1))  # Output between 0–1
