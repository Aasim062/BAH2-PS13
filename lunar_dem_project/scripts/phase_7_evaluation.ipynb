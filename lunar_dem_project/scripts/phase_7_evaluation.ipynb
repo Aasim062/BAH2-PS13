{
 "cells": [
  {
   "cell_type": "code",
   "execution_count": null,
   "id": "84336add",
   "metadata": {},
   "outputs": [],
   "source": [
    "import numpy as np\n",
    "import matplotlib.pyplot as plt\n",
    "\n",
    "# Our final DEM\n",
    "dem = np.load('../output/final_dem/dem_normalized.npy')\n",
    "\n",
    "# Reference DEM (e.g., LOLA or stereo DEM) – must be aligned/resized already\n",
    "ref_dem = np.load('../data/dems/reference_dem_resized.npy')\n"
   ]
  },
  {
   "cell_type": "code",
   "execution_count": null,
   "id": "c63093bf",
   "metadata": {},
   "outputs": [],
   "source": [
    "# Ensure shape match\n",
    "assert dem.shape == ref_dem.shape, \"DEM and ref DEM must have same shape\"\n",
    "\n",
    "error = ref_dem - dem\n",
    "rmse = np.sqrt(np.mean(error ** 2))\n",
    "\n",
    "plt.imshow(error, cmap='RdBu', vmin=-0.5, vmax=0.5)\n",
    "plt.title(f\"Error Map (RMSE = {rmse:.4f})\")\n",
    "plt.colorbar()\n",
    "plt.savefig('../output/evaluation/error_map.png')\n"
   ]
  },
  {
   "cell_type": "code",
   "execution_count": null,
   "id": "2fd2ddfa",
   "metadata": {},
   "outputs": [],
   "source": [
    "# Take a row (or column) profile\n",
    "row = dem.shape[0] // 2\n",
    "plt.plot(dem[row], label=\"Generated DEM\")\n",
    "plt.plot(ref_dem[row], label=\"Reference DEM\")\n",
    "plt.title(\"Crater Cross-Section Profile\")\n",
    "plt.xlabel(\"Pixel Position\")\n",
    "plt.ylabel(\"Elevation\")\n",
    "plt.legend()\n",
    "plt.savefig('../output/evaluation/crater_profile_plot.png')\n",
    "plt.show()\n"
   ]
  },
  {
   "cell_type": "code",
   "execution_count": null,
   "id": "8e1f2ea2",
   "metadata": {},
   "outputs": [],
   "source": [
    "plt.hist(dem.flatten(), bins=50, alpha=0.5, label='Generated')\n",
    "plt.hist(ref_dem.flatten(), bins=50, alpha=0.5, label='Reference')\n",
    "plt.title(\"Elevation Distribution\")\n",
    "plt.xlabel(\"Normalized Elevation\")\n",
    "plt.ylabel(\"Pixel Count\")\n",
    "plt.legend()\n",
    "plt.savefig('../output/evaluation/elevation_histogram.png')\n",
    "plt.show()\n"
   ]
  },
  {
   "cell_type": "code",
   "execution_count": null,
   "id": "8b2c756d",
   "metadata": {},
   "outputs": [],
   "source": [
    "with open('../output/evaluation/evaluation_report.txt', 'w') as f:\n",
    "    f.write(\"Lunar DEM Evaluation Report\\n\")\n",
    "    f.write(f\"RMSE vs Reference DEM: {rmse:.4f}\\n\")\n",
    "    f.write(f\"DEM Shape: {dem.shape}\\n\")\n",
    "    f.write(\"Crater Profile: Saved as crater_profile_plot.png\\n\")\n",
    "    f.write(\"Histogram: Saved as elevation_histogram.png\\n\")\n",
    "    f.write(\"Error Map: Saved as error_map.png\\n\")\n"
   ]
  }
 ],
 "metadata": {
  "language_info": {
   "name": "python"
  }
 },
 "nbformat": 4,
 "nbformat_minor": 5
}
