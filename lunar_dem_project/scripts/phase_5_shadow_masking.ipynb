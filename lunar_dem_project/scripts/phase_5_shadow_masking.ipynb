{
 "cells": [
  {
   "cell_type": "code",
   "execution_count": null,
   "id": "b1d9f3b3",
   "metadata": {},
   "outputs": [],
   "source": [
    "import numpy as np\n",
    "import matplotlib.pyplot as plt\n",
    "import cv2\n",
    "\n",
    "image = np.load('../output/aligned/image_norm.npy')\n",
    "dem = np.load('../output/sfs/dem_final.npy')\n"
   ]
  },
  {
   "cell_type": "code",
   "execution_count": null,
   "id": "14a4129f",
   "metadata": {},
   "outputs": [],
   "source": [
    "# Threshold based shadow mask (e.g., < 10% brightness)\n",
    "shadow_threshold = 0.10\n",
    "shadow_mask = (image < shadow_threshold).astype(np.uint8)\n",
    "\n",
    "plt.imshow(shadow_mask, cmap='gray')\n",
    "plt.title(\"Shadow Mask\")\n",
    "plt.show()\n",
    "\n",
    "# Save for record\n",
    "np.save('../output/masks/shadow_mask.npy', shadow_mask)\n"
   ]
  },
  {
   "cell_type": "code",
   "execution_count": null,
   "id": "3880f8f3",
   "metadata": {},
   "outputs": [],
   "source": [
    "# Optional: use inpainting or smoothing\n",
    "from scipy.ndimage import gaussian_filter\n",
    "\n",
    "# Masked region smoothing\n",
    "corrected_dem = dem.copy()\n",
    "corrected_dem[shadow_mask == 1] = np.nan\n",
    "corrected_dem = np.where(np.isnan(corrected_dem), gaussian_filter(dem, sigma=5), corrected_dem)\n",
    "\n",
    "plt.imshow(corrected_dem, cmap='terrain')\n",
    "plt.title(\"Shadow-Corrected DEM\")\n",
    "plt.colorbar()\n",
    "plt.show()\n",
    "\n",
    "np.save('../output/sfs/dem_shadow_corrected.npy', corrected_dem)\n"
   ]
  },
  {
   "cell_type": "code",
   "execution_count": null,
   "id": "ff34d366",
   "metadata": {},
   "outputs": [],
   "source": []
  }
 ],
 "metadata": {
  "language_info": {
   "name": "python"
  }
 },
 "nbformat": 4,
 "nbformat_minor": 5
}
