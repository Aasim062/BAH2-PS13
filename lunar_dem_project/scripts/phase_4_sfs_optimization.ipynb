{
 "cells": [
  {
   "cell_type": "code",
   "execution_count": null,
   "id": "ee0955f0",
   "metadata": {},
   "outputs": [],
   "source": [
    "import numpy as np\n",
    "import matplotlib.pyplot as plt\n",
    "\n",
    "image = np.load('../output/aligned/image_norm.npy')\n",
    "albedo = cv2.imread('../output/albedo_maps/predicted_albedo.png', cv2.IMREAD_GRAYSCALE) / 255.0\n",
    "R_model = np.load('../output/reflectance_models/expected_reflectance.npy')\n",
    "init_dem = np.load('../output/aligned/dem_resized.npy')\n"
   ]
  },
  {
   "cell_type": "code",
   "execution_count": null,
   "id": "74091181",
   "metadata": {},
   "outputs": [],
   "source": [
    "def compute_normals(dem, scale=1.0):\n",
    "    dx = np.gradient(dem, axis=1) * scale\n",
    "    dy = np.gradient(dem, axis=0) * scale\n",
    "    dz = np.ones_like(dem)\n",
    "    \n",
    "    norm = np.sqrt(dx**2 + dy**2 + dz**2)\n",
    "    return dx / norm, dy / norm, dz / norm  # Surface normal components\n",
    "\n"
   ]
  },
  {
   "cell_type": "code",
   "execution_count": null,
   "id": "02b2103b",
   "metadata": {},
   "outputs": [],
   "source": [
    "def sfs_optimization(image, albedo, R_model, dem_init, iterations=50, alpha=0.1):\n",
    "    dem = dem_init.copy()\n",
    "    for it in range(iterations):\n",
    "        dx, dy, dz = compute_normals(dem)\n",
    "        slope_factor = dz  # Approximation: verticality = brightness proxy\n",
    "        \n",
    "        # Compute new reflectance (simplified)\n",
    "        R_current = albedo * slope_factor\n",
    "        \n",
    "        # Difference from model\n",
    "        diff = R_model - R_current\n",
    "        \n",
    "        # Update DEM using gradient feedback\n",
    "        dem += alpha * diff  # alpha = learning rate\n",
    "        if it % 10 == 0:\n",
    "            print(f\"Iteration {it}, mean diff: {np.mean(np.abs(diff)):.4f}\")\n",
    "    return dem\n",
    "\n"
   ]
  },
  {
   "cell_type": "code",
   "execution_count": null,
   "id": "0b891ff7",
   "metadata": {},
   "outputs": [],
   "source": [
    "dem_final = sfs_optimization(image, albedo, R_model, init_dem, iterations=100, alpha=0.05)\n",
    "\n",
    "plt.imshow(dem_final, cmap='terrain')\n",
    "plt.title(\"Optimized DEM\")\n",
    "plt.colorbar()\n",
    "plt.show()\n",
    "\n",
    "np.save('../output/sfs/dem_final.npy', dem_final)\n",
    "cv2.imwrite('../output/sfs/dem_visual.png', (dem_final - np.min(dem_final)) / np.ptp(dem_final) * 255)\n"
   ]
  },
  {
   "cell_type": "code",
   "execution_count": null,
   "id": "16a9e1b2",
   "metadata": {},
   "outputs": [],
   "source": []
  }
 ],
 "metadata": {
  "language_info": {
   "name": "python"
  }
 },
 "nbformat": 4,
 "nbformat_minor": 5
}
