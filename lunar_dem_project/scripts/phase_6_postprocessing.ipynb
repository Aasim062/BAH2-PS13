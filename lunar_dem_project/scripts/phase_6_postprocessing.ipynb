{
 "cells": [
  {
   "cell_type": "code",
   "execution_count": null,
   "id": "22def40d",
   "metadata": {},
   "outputs": [],
   "source": [
    "import numpy as np\n",
    "import matplotlib.pyplot as plt\n",
    "from scipy.ndimage import gaussian_filter\n",
    "\n",
    "# Load corrected DEM\n",
    "dem = np.load('../output/sfs/dem_shadow_corrected.npy')\n"
   ]
  },
  {
   "cell_type": "code",
   "execution_count": null,
   "id": "77aec46b",
   "metadata": {},
   "outputs": [],
   "source": [
    "# Apply light smoothing\n",
    "smoothed_dem = gaussian_filter(dem, sigma=2)\n",
    "\n",
    "# Normalize to 0–1 for visualization\n",
    "dem_min = np.nanmin(smoothed_dem)\n",
    "dem_max = np.nanmax(smoothed_dem)\n",
    "dem_norm = (smoothed_dem - dem_min) / (dem_max - dem_min)\n",
    "\n",
    "plt.imshow(dem_norm, cmap='terrain')\n",
    "plt.title(\"Smoothed & Normalized DEM\")\n",
    "plt.colorbar()\n",
    "plt.show()\n",
    "\n",
    "np.save('../output/final_dem/dem_normalized.npy', dem_norm)\n"
   ]
  },
  {
   "cell_type": "code",
   "execution_count": null,
   "id": "e09b8b0a",
   "metadata": {},
   "outputs": [],
   "source": [
    "import rasterio\n",
    "from rasterio.transform import from_origin\n",
    "import cv2\n",
    "\n",
    "# Save visual PNG\n",
    "cv2.imwrite('../output/final_dem/dem_visual_final.png', (dem_norm * 255).astype('uint8'))\n",
    "\n",
    "# Export to GeoTIFF (assuming pixel size = 1m, origin = (0,0))\n",
    "transform = from_origin(0, 0, 1.0, 1.0)\n",
    "with rasterio.open(\n",
    "    '../output/final_dem/dem_normalized.tif', 'w',\n",
    "    driver='GTiff',\n",
    "    height=dem_norm.shape[0],\n",
    "    width=dem_norm.shape[1],\n",
    "    count=1,\n",
    "    dtype='float32',\n",
    "    crs='+proj=latlong',\n",
    "    transform=transform\n",
    ") as dst:\n",
    "    dst.write(dem_norm.astype('float32'), 1)\n"
   ]
  }
 ],
 "metadata": {
  "language_info": {
   "name": "python"
  }
 },
 "nbformat": 4,
 "nbformat_minor": 5
}
