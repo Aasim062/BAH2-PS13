import cv2
import numpy as np
import rasterio
from matplotlib import pyplot as plt

# Load mono image (grayscale)
image_path = '../data/images/lunar_patch.tif'
image = cv2.imread(image_path, cv2.IMREAD_GRAYSCALE)

# Load DEM (GeoTIFF)
dem_path = '../data/dems/lola_patch.tif'
with rasterio.open(dem_path) as dem_src:
    dem = dem_src.read(1)  # 1st band

plt.figure(figsize=(12,5))
plt.subplot(1,2,1)
plt.imshow(image, cmap='gray')
plt.title("Raw Lunar Image")

plt.subplot(1,2,2)
plt.imshow(dem, cmap='terrain')
plt.title("Low-Res DEM")
plt.show()
